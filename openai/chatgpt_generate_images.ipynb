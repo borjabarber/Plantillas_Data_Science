{
 "cells": [
  {
   "cell_type": "code",
   "execution_count": 5,
   "id": "1b7f8573",
   "metadata": {},
   "outputs": [
    {
     "name": "stdout",
     "output_type": "stream",
     "text": [
      "Imagen generada: https://oaidalleapiprodscus.blob.core.windows.net/private/org-8wHa7IqXNSGjDK4CZDZpogxO/user-sCgoEYONaVj0NkL7NyHwkPNr/img-wIF15UPwTOMc1ecUGcpX4iTX.png?st=2025-05-23T09%3A15%3A13Z&se=2025-05-23T11%3A15%3A13Z&sp=r&sv=2024-08-04&sr=b&rscd=inline&rsct=image/png&skoid=8b33a531-2df9-46a3-bc02-d4b1430a422c&sktid=a48cca56-e6da-484e-a814-9c849652bcb3&skt=2025-05-23T03%3A09%3A47Z&ske=2025-05-24T03%3A09%3A47Z&sks=b&skv=2024-08-04&sig=13g7tgKURbkCrG6QZfmk8Pd/ikDZicfnF5tlOHy9zo8%3D\n"
     ]
    }
   ],
   "source": [
    "import os\n",
    "from dotenv import load_dotenv\n",
    "from openai import OpenAI\n",
    "\n",
    "# Cargar variables de entorno desde .env\n",
    "load_dotenv()\n",
    "\n",
    "# Crear cliente OpenAI con API key\n",
    "client = OpenAI(api_key=os.getenv(\"OPENAI_API_KEY\"))\n",
    "\n",
    "# Generar la imagen\n",
    "response = client.images.generate(\n",
    "    prompt=\"A floating crystal castle above the clouds during an alien sunset, \"\n",
    "    \"with glowing magical symbols, detailed textures, cinematic lighting, \"\n",
    "    \"in ultra-realistic digital art style, 4K resolution\",\n",
    "    n=1,\n",
    "    size=\"1024x1024\"\n",
    ")\n",
    "\n",
    "# Obtener la URL de la imagen\n",
    "image_url = response.data[0].url\n",
    "print(\"Imagen generada:\", image_url)\n",
    "\n"
   ]
  },
  {
   "cell_type": "code",
   "execution_count": null,
   "id": "c75fcc8b",
   "metadata": {},
   "outputs": [],
   "source": []
  }
 ],
 "metadata": {
  "kernelspec": {
   "display_name": "base",
   "language": "python",
   "name": "python3"
  },
  "language_info": {
   "codemirror_mode": {
    "name": "ipython",
    "version": 3
   },
   "file_extension": ".py",
   "mimetype": "text/x-python",
   "name": "python",
   "nbconvert_exporter": "python",
   "pygments_lexer": "ipython3",
   "version": "3.12.7"
  }
 },
 "nbformat": 4,
 "nbformat_minor": 5
}
